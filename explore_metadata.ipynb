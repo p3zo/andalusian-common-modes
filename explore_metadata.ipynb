{
 "cells": [
  {
   "cell_type": "markdown",
   "id": "59045f9f",
   "metadata": {},
   "source": [
    "Adapted from https://github.com/MTG/andalusian-corpus-notebooks/blob/master/metadata_visualization_interface.ipynb"
   ]
  },
  {
   "cell_type": "code",
   "execution_count": 1,
   "id": "b0173cbf",
   "metadata": {},
   "outputs": [
    {
     "data": {
      "text/html": [
       "<style>.container { width:100% !important; }</style>"
      ],
      "text/plain": [
       "<IPython.core.display.HTML object>"
      ]
     },
     "metadata": {},
     "output_type": "display_data"
    }
   ],
   "source": [
    "%load_ext autoreload\n",
    "%autoreload 2\n",
    "\n",
    "from IPython.display import display, HTML\n",
    "display(HTML(\"<style>.container { width:100% !important; }</style>\"))"
   ]
  },
  {
   "cell_type": "code",
   "execution_count": 2,
   "id": "9dde9b28",
   "metadata": {},
   "outputs": [],
   "source": [
    "from utils import (\n",
    "    CollectionMetadata,\n",
    "    CrossMetadataVisualization,\n",
    "    get_time,\n",
    "    VisualizeDataframeGui,\n",
    ")\n",
    "\n",
    "cm = CollectionMetadata()"
   ]
  },
  {
   "cell_type": "code",
   "execution_count": 3,
   "id": "ea948df9",
   "metadata": {
    "scrolled": false
   },
   "outputs": [
    {
     "data": {
      "application/vnd.jupyter.widget-view+json": {
       "model_id": "2805ae9799684ea683e625ae3b3e8e0d",
       "version_major": 2,
       "version_minor": 0
      },
      "text/plain": [
       "VBox(children=(VBox(children=(Tab(children=(HBox(children=(VBox(children=(Label(value='name'), Label(value='ال…"
      ]
     },
     "metadata": {},
     "output_type": "display_data"
    }
   ],
   "source": [
    "vd = VisualizeDataframeGui(cm)"
   ]
  },
  {
   "cell_type": "code",
   "execution_count": 4,
   "id": "dfe2a9d7",
   "metadata": {},
   "outputs": [
    {
     "data": {
      "application/vnd.jupyter.widget-view+json": {
       "model_id": "f53660c3c9c3402eb3a6852a09e3095b",
       "version_major": 2,
       "version_minor": 0
      },
      "text/plain": [
       "VBox(children=(HBox(children=(VBox(children=(Label(value='Column:'), Dropdown(layout=Layout(width='180px'), op…"
      ]
     },
     "metadata": {},
     "output_type": "display_data"
    }
   ],
   "source": [
    "cr = CrossMetadataVisualization(cm)"
   ]
  },
  {
   "cell_type": "code",
   "execution_count": 5,
   "id": "06abd15d",
   "metadata": {},
   "outputs": [
    {
     "name": "stdout",
     "output_type": "stream",
     "text": [
      "Overall computable time (only recordings with sections) = 100:11:01\n",
      "Number of recordings without sections = 6/164\n",
      "Number of recordings without score = 6/164\n",
      "Number of recordings without archive_url = 6/164\n",
      "\n",
      "Recordings with different nawbas in the same track:['0386e377-7212-43e5-89b6-7f4c42d0ae74']\n",
      "Recordings with different tab in the same track:['0386e377-7212-43e5-89b6-7f4c42d0ae74']\n"
     ]
    }
   ],
   "source": [
    "print(\"Overall computable time (only recordings with sections) = \" + get_time(cm.get_overall_sections_time()))\n",
    "print(\"Number of recordings without sections = \" + str(len(cm.mbid_no_sections)) + '/' + str(len(cm.df_recording)) )\n",
    "print(\"Number of recordings without score = \" + str(len(cm.get_recordings_without('musescore_url'))) + '/' + str(len(cm.df_recording)) )\n",
    "# possible value 'archive_url', 'musescore_url', 'title', 'transliterated_title' \n",
    "print(\"Number of recordings without archive_url = \" + str(len(cm.get_recordings_without('archive_url'))) + '/' + str(len(cm.df_recording)) )\n",
    "print()\n",
    "print(\"Recordings with different nawbas in the same track:\" + str(cm.get_recordings_with_diff_('nawba')) )\n",
    "print(\"Recordings with different tab in the same track:\" + str(cm.get_recordings_with_diff_('tab')) )"
   ]
  }
 ],
 "metadata": {
  "kernelspec": {
   "display_name": "Python 3 (ipykernel)",
   "language": "python",
   "name": "python3"
  },
  "language_info": {
   "codemirror_mode": {
    "name": "ipython",
    "version": 3
   },
   "file_extension": ".py",
   "mimetype": "text/x-python",
   "name": "python",
   "nbconvert_exporter": "python",
   "pygments_lexer": "ipython3",
   "version": "3.9.10"
  }
 },
 "nbformat": 4,
 "nbformat_minor": 5
}
